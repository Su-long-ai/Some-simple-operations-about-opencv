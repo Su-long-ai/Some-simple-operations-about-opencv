{
 "cells": [
  {
   "cell_type": "code",
   "execution_count": 7,
   "id": "e788bb80",
   "metadata": {},
   "outputs": [],
   "source": [
    "import cv2\n",
    "vc=cv2.VideoCapture(\"D:/Screenrecorder-2023-11-08-21-14-50-465.mp4\")"
   ]
  },
  {
   "cell_type": "code",
   "execution_count": 8,
   "id": "bf5eee07",
   "metadata": {},
   "outputs": [],
   "source": [
    "if vc.isOpened():\n",
    "    open\n",
    "else:\n",
    "    open=False"
   ]
  },
  {
   "cell_type": "code",
   "execution_count": 9,
   "id": "3e58e7a9",
   "metadata": {},
   "outputs": [],
   "source": [
    "while open:\n",
    "    ret,frame=vc.read()\n",
    "    if frame is None:\n",
    "        break\n",
    "    if ret == True:\n",
    "        img=frame[120:360,200:600]\n",
    "        if cv2.waitKey(25) == 113:\n",
    "            break\n",
    "        if cv2.waitKey(25) == 32:\n",
    "            cv2.waitKey(0)\n",
    "        cv2.imshow('result', img)\n",
    "vc.release()\n",
    "cv2.destroyAllWindows()"
   ]
  }
 ],
 "metadata": {
  "kernelspec": {
   "display_name": "Python 3 (ipykernel)",
   "language": "python",
   "name": "python3"
  },
  "language_info": {
   "codemirror_mode": {
    "name": "ipython",
    "version": 3
   },
   "file_extension": ".py",
   "mimetype": "text/x-python",
   "name": "python",
   "nbconvert_exporter": "python",
   "pygments_lexer": "ipython3",
   "version": "3.11.5"
  }
 },
 "nbformat": 4,
 "nbformat_minor": 5
}
