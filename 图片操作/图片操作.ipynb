{
 "cells": [
  {
   "cell_type": "code",
   "execution_count": 13,
   "id": "2e850799",
   "metadata": {},
   "outputs": [],
   "source": [
    "import cv2\n",
    "import numpy as np\n",
    "img=cv2.imread(\"D:/1699194637144535.jpg\")"
   ]
  },
  {
   "cell_type": "code",
   "execution_count": 14,
   "id": "a944dcdc",
   "metadata": {},
   "outputs": [],
   "source": [
    "def CvShow(name,img):\n",
    "    cv2.imshow(name,img)\n",
    "    cv2.waitKey(0)\n",
    "    cv2.destroyAllWindows()"
   ]
  },
  {
   "cell_type": "code",
   "execution_count": 15,
   "id": "11a632b4",
   "metadata": {},
   "outputs": [],
   "source": [
    "def ImageZoomOut(img):\n",
    "    ret=cv2.resize(img,None,fx=0.75,fy=0.75)\n",
    "    return ret"
   ]
  },
  {
   "cell_type": "code",
   "execution_count": 16,
   "id": "e5d6a195",
   "metadata": {},
   "outputs": [],
   "source": [
    "def PictureRotation(img):\n",
    "    h,w=img.shape[:2]\n",
    "    M=cv2.getRotationMatrix2D((h/2,w/2),135,1)\n",
    "    ret=cv2.warpAffine(img,M,(h,w))\n",
    "    return ret"
   ]
  },
  {
   "cell_type": "code",
   "execution_count": 17,
   "id": "85165709",
   "metadata": {},
   "outputs": [],
   "source": [
    "def PicturePan(img):\n",
    "    h,w=img.shape[:2]\n",
    "    M=np.float32([[1,0,-0.75*w],[0,1,-0.8*h]])   \n",
    "    ret=cv2.warpAffine(img,M,(h,w))\n",
    "    return ret"
   ]
  },
  {
   "cell_type": "code",
   "execution_count": 18,
   "id": "e661c125",
   "metadata": {},
   "outputs": [],
   "source": [
    "CvShow(\"img1\",ImageZoomOut(img))\n",
    "CvShow(\"img2\",PictureRotation(ImageZoomOut(img)))\n",
    "CvShow(\"img3\",PicturePan(img))"
   ]
  }
 ],
 "metadata": {
  "kernelspec": {
   "display_name": "Python 3 (ipykernel)",
   "language": "python",
   "name": "python3"
  },
  "language_info": {
   "codemirror_mode": {
    "name": "ipython",
    "version": 3
   },
   "file_extension": ".py",
   "mimetype": "text/x-python",
   "name": "python",
   "nbconvert_exporter": "python",
   "pygments_lexer": "ipython3",
   "version": "3.11.5"
  }
 },
 "nbformat": 4,
 "nbformat_minor": 5
}
