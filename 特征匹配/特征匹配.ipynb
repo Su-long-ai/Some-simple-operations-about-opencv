{
 "cells": [
  {
   "cell_type": "code",
   "execution_count": 1,
   "id": "167bc897",
   "metadata": {},
   "outputs": [],
   "source": [
    "import cv2\n",
    "import numpy as np\n",
    "img=cv2.imread(\"D:/111111.jpg\")"
   ]
  },
  {
   "cell_type": "code",
   "execution_count": 2,
   "id": "e4e1660b",
   "metadata": {},
   "outputs": [],
   "source": [
    "def ImageProcessing(img):\n",
    "    ret1=cv2.resize(img,None,fx=0.75,fy=0.75)\n",
    "    h,w=ret1.shape[:2]\n",
    "    M=cv2.getRotationMatrix2D((h/2,w/2),135,1)\n",
    "    ret2=cv2.warpAffine(ret1,M,(h,w))\n",
    "    M=np.float32([[1,0,-0.75*w],[0,1,-0.8*h]])   \n",
    "    ret3=cv2.warpAffine(ret2,M,(h,w))\n",
    "    return ret3"
   ]
  },
  {
   "cell_type": "code",
   "execution_count": 3,
   "id": "9ba71ac7",
   "metadata": {},
   "outputs": [],
   "source": [
    "def CvShow(name,img):\n",
    "    cv2.imshow(name,img)\n",
    "    cv2.waitKey(0)\n",
    "    cv2.destroyAllWindows()"
   ]
  },
  {
   "cell_type": "code",
   "execution_count": 4,
   "id": "6655e7d3",
   "metadata": {},
   "outputs": [],
   "source": [
    "def FLANNmatch(img1,img2):\n",
    "    gray1=cv2.cvtColor(img1,cv2.COLOR_BGR2GRAY)\n",
    "    gray2=cv2.cvtColor(img2,cv2.COLOR_BGR2GRAY)\n",
    "    sift=cv2.xfeatures2d.SIFT_create()\n",
    "    kp1,des1=sift.detectAndCompute(gray1,None)\n",
    "    kp2,des2=sift.detectAndCompute(gray2,None)\n",
    "    FLANN_INDEX_KDTREE=1\n",
    "    index_params=dict(algorithm=FLANN_INDEX_KDTREE,trees=5)\n",
    "    search_params=dict(checks=50)\n",
    "    flann=cv2.FlannBasedMatcher(index_params,search_params)\n",
    "    matches=flann.knnMatch(des1,des2,k=2)\n",
    "    matchesMask=[[0,0] for i in range(len(matches))]\n",
    "    for i,(m,n) in enumerate(matches):\n",
    "        if m.distance < 0.7*n.distance:\n",
    "            matchesMask[i]=[1,0]\n",
    "    draw_params=dict(matchColor=(0,255,0),singlePointColor=(0,0,255),matchesMask=matchesMask,flags=0)\n",
    "    img3=cv2.drawMatchesKnn(img1,kp1,img2,kp2,matches,None,**draw_params)\n",
    "    return img3"
   ]
  },
  {
   "cell_type": "code",
   "execution_count": 5,
   "id": "3dfd372f",
   "metadata": {
    "scrolled": true
   },
   "outputs": [],
   "source": [
    "CvShow(\"img\",FLANNmatch(ImageProcessing(img),img))"
   ]
  }
 ],
 "metadata": {
  "kernelspec": {
   "display_name": "Python 3 (ipykernel)",
   "language": "python",
   "name": "python3"
  },
  "language_info": {
   "codemirror_mode": {
    "name": "ipython",
    "version": 3
   },
   "file_extension": ".py",
   "mimetype": "text/x-python",
   "name": "python",
   "nbconvert_exporter": "python",
   "pygments_lexer": "ipython3",
   "version": "3.11.5"
  }
 },
 "nbformat": 4,
 "nbformat_minor": 5
}
