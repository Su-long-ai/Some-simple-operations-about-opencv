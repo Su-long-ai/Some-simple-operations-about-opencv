{
 "cells": [
  {
   "cell_type": "code",
   "execution_count": 88,
   "id": "5ae8ae1b",
   "metadata": {},
   "outputs": [],
   "source": [
    "import cv2\n",
    "import os\n",
    "import numpy as np"
   ]
  },
  {
   "cell_type": "code",
   "execution_count": 89,
   "id": "1fca1b81",
   "metadata": {},
   "outputs": [],
   "source": [
    "recogizer=cv2.face.LBPHFaceRecognizer_create()#创建一个人脸识别器对象\n",
    "recogizer.read(\"D:/trainer/trainer.yml\")#加载识别器   "
   ]
  },
  {
   "cell_type": "code",
   "execution_count": 90,
   "id": "829fbb3d",
   "metadata": {},
   "outputs": [],
   "source": [
    "def FaceDetection(img):\n",
    "    gary = cv2.cvtColor(img,cv2.COLOR_BGR2GRAY)\n",
    "    face_detect = cv2.CascadeClassifier(\"C:/Users/33086/Downloads/opencv/sources/data/haarcascades_cuda/haarcascade_frontalface_alt2.xml\")\n",
    "    face = face_detect.detectMultiScale(gary)\n",
    "    for x,y,w,h in face:\n",
    "        cv2.rectangle(img,(x,y),(x+w,y+h),color=(0,0,255),thickness=1)\n",
    "        cv2.rectangle(img,(x-10,y-10),(x+w+10,y+h+10),color=(0,255,0),thickness=1)\n",
    "        ids,confidence=recogizer.predict(gary[y:y+h,x:x+w])#confidence为置信评分\n",
    "        if confidence > 80:\n",
    "            cv2.putText(img, 'kiki', (x + 10, y - 10), cv2.FONT_HERSHEY_SIMPLEX, 0.75, (0, 255, 0), 1)\n",
    "    cv2.imshow('result', img)"
   ]
  },
  {
   "cell_type": "code",
   "execution_count": 91,
   "id": "f064dee6",
   "metadata": {},
   "outputs": [],
   "source": [
    "vc=cv2.VideoCapture(\"D:/VID_20231121_192509.mp4\")\n",
    "if vc.isOpened():\n",
    "    open, frame=vc.read()\n",
    "else:\n",
    "    open=False"
   ]
  },
  {
   "cell_type": "code",
   "execution_count": 92,
   "id": "14934eef",
   "metadata": {},
   "outputs": [],
   "source": [
    "while open:\n",
    "    ret,frame=vc.read()\n",
    "    if frame is None:\n",
    "        break\n",
    "    if ret == True:\n",
    "        img=frame[60:300,200:600]\n",
    "        FaceDetection(img)\n",
    "        if cv2.waitKey(25) == 113:\n",
    "             break\n",
    "        if cv2.waitKey(25) == 32:\n",
    "            cv2.waitKey(0)\n",
    "vc.release()\n",
    "cv2.destroyAllWindows()"
   ]
  }
 ],
 "metadata": {
  "kernelspec": {
   "display_name": "Python 3 (ipykernel)",
   "language": "python",
   "name": "python3"
  },
  "language_info": {
   "codemirror_mode": {
    "name": "ipython",
    "version": 3
   },
   "file_extension": ".py",
   "mimetype": "text/x-python",
   "name": "python",
   "nbconvert_exporter": "python",
   "pygments_lexer": "ipython3",
   "version": "3.11.5"
  }
 },
 "nbformat": 4,
 "nbformat_minor": 5
}
