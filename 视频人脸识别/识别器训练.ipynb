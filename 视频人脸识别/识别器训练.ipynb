{
 "cells": [
  {
   "cell_type": "code",
   "execution_count": 1,
   "id": "6da6720c",
   "metadata": {},
   "outputs": [],
   "source": [
    "import cv2\n",
    "import os\n",
    "from PIL import Image\n",
    "import numpy as np"
   ]
  },
  {
   "cell_type": "code",
   "execution_count": 2,
   "id": "eb8fba8c",
   "metadata": {},
   "outputs": [],
   "source": [
    "def getImageAndLabels(path):\n",
    "    facesSamples=[]#储存人脸数据（这是一个二维数组）\n",
    "    ids=[]#储存姓名数据\n",
    "    imagePaths=[os.path.join(path,f)for f in os.listdir(path)]  #储存图片信息\n",
    "    face_detector = cv2.CascadeClassifier(\"C:/Users/33086/Downloads/opencv/sources/data/haarcascades_cuda/haarcascade_frontalface_alt2.xml\")\n",
    "    for imagePath in imagePaths:#遍历列表中的图片\n",
    "        PIL_img=Image.open(imagePath).convert('L')#以灰度图像的方式打开\n",
    "        img_numpy=np.array(PIL_img,'uint8')#将图像转化为数组\n",
    "        faces=face_detector.detectMultiScale(img_numpy)#使用分类器获取人脸特征\n",
    "        id =int(os.path.split(imagePath)[1].split('.')[0])#提取图片.之前的东西作为id\n",
    "        for x,y,w,h in faces:\n",
    "            ids.append(id)#将id添加到ids这个列表内\n",
    "            facesSamples.append(img_numpy[y:y+h,x:x+w])#把x,y,w,h添加到facesSamples这个列表\n",
    "    return facesSamples,ids  #返回                          "
   ]
  },
  {
   "cell_type": "code",
   "execution_count": 3,
   "id": "7b78a2ed",
   "metadata": {},
   "outputs": [],
   "source": [
    "if __name__ == '__main__':\n",
    "    path=\"D:/positive\"\n",
    "    faces,ids=getImageAndLabels(path)#获取图像数组和id标签数组和姓名\n",
    "    recognizer=cv2.face.LBPHFaceRecognizer_create()#加载识别器\n",
    "    recognizer.train(faces,np.array(ids))#训练\n",
    "    recognizer.write(\"D:/trainer/trainer.yml\")#保存文件"
   ]
  }
 ],
 "metadata": {
  "kernelspec": {
   "display_name": "Python 3 (ipykernel)",
   "language": "python",
   "name": "python3"
  },
  "language_info": {
   "codemirror_mode": {
    "name": "ipython",
    "version": 3
   },
   "file_extension": ".py",
   "mimetype": "text/x-python",
   "name": "python",
   "nbconvert_exporter": "python",
   "pygments_lexer": "ipython3",
   "version": "3.11.5"
  }
 },
 "nbformat": 4,
 "nbformat_minor": 5
}
